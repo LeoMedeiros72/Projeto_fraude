# 1. Importação de bibliotecas e leitura do dataset
# 2. Análise exploratória e estatística
# 3. Pré-processamento e balanceamento
# 4. Treinamento de modelos
# 5. Avaliação com métricas e salvamento do modelo


# 1. Importação
import pandas as pd
import matplotlib.pyplot as plt
import seaborn as sns
from sklearn.model_selection import train_test_split
from sklearn.preprocessing import StandardScaler
from imblearn.over_sampling import SMOTE
from sklearn.ensemble import RandomForestClassifier
from sklearn.metrics import classification_report, confusion_matrix
import joblib

# 2. Leitura e EDA
df = pd.read_csv('../data/creditcard.csv')
print(df.head())
print(df['Class'].value_counts(normalize=True))  # Fraudes são ~0.17%
sns.countplot(x='Class', data=df)
plt.title('Distribuição de fraudes')
plt.show()

# 3. Preprocessamento
X = df.drop('Class', axis=1)
y = df['Class']
scaler = StandardScaler()
X_scaled = scaler.fit_transform(X)
smote = SMOTE()
X_res, y_res = smote.fit_resample(X_scaled, y)

X_train, X_test, y_train, y_test = train_test_split(X_res, y_res, test_size=0.2, random_state=42)

# 4. Modelagem
model = RandomForestClassifier(n_estimators=100, random_state=42)
model.fit(X_train, y_train)

# 5. Avaliação
y_pred = model.predict(X_test)
print(classification_report(y_test, y_pred))
sns.heatmap(confusion_matrix(y_test, y_pred), annot=True, fmt='d')
plt.title('Matriz de confusão')
plt.show()

# 6. Salvamento
joblib.dump(model, '../app/model.joblib')
